{
 "cells": [
  {
   "cell_type": "markdown",
   "id": "c2e93f25-e807-4d41-a448-1a82ccfe4e48",
   "metadata": {},
   "source": [
    "Lab | Inferential statistics\n",
    "Instructions\n",
    "It is assumed that the mean systolic blood pressure is μ = 120 mm Hg. In the Honolulu Heart Study, a sample of n = 100 people had an average systolic blood pressure of 130.1 mm Hg with a standard deviation of 21.21 mm Hg. Is the group significantly different (with respect to systolic blood pressure!) from the regular population?\n",
    "\n",
    "Set up the hypothesis test.\n",
    "Write down all the steps followed for setting up the test.\n",
    "Calculate the test statistic by hand and also code it in Python. It should be 4.76190. We will take a look at how to make decisions based on this calculated value.\n",
    "If you finished the previous question, please go through the code for principal_component_analysis_example provided in the files_for_lab folder ."
   ]
  },
  {
   "cell_type": "code",
   "execution_count": 1,
   "id": "bf5dc30f-8d49-4061-96a7-22cf255fae44",
   "metadata": {},
   "outputs": [],
   "source": [
    "import math\n"
   ]
  },
  {
   "cell_type": "markdown",
   "id": "b6ce6cdf-ef43-4d3d-8fbf-66224bcea9e9",
   "metadata": {},
   "source": [
    "Step 1: Define the null hypothesis - This is our assumption about the population. It is defined by H0 and in this case H0: μ = 120;\n",
    "\n",
    "Step 2: Define the alternative hypothesis - This means, what if our assumption is not true. It is defined by Ha and in this case Ha: μ > 130."
   ]
  },
  {
   "cell_type": "code",
   "execution_count": 2,
   "id": "da8ce92f-1706-4f86-9d2b-37307edd4133",
   "metadata": {},
   "outputs": [
    {
     "data": {
      "text/plain": [
       "4.761904761904759"
      ]
     },
     "execution_count": 2,
     "metadata": {},
     "output_type": "execute_result"
    }
   ],
   "source": [
    "sample_mean = 130.1\n",
    "pop_mean = 120\n",
    "pop_std = 21.21\n",
    "n = 100\n",
    "\n",
    "statistic = (sample_mean - pop_mean)/(pop_std/math.sqrt(n))\n",
    "statistic"
   ]
  },
  {
   "cell_type": "markdown",
   "id": "dad18e8b-60e7-4ee1-8f8d-fbd170873587",
   "metadata": {},
   "source": [
    "Looking at the table, we see the critical value for one-tailed alpha 0.05 and degree of freedom (dof) of 99 is 1.660391.\n",
    "\n",
    "We can say with 95% of confidence that we have enough evidence to reject the null hypothesis.\n"
   ]
  },
  {
   "cell_type": "markdown",
   "id": "9792375a-c676-4ab1-88df-f570ddc2ef67",
   "metadata": {},
   "source": [
    "\n"
   ]
  }
 ],
 "metadata": {
  "kernelspec": {
   "display_name": "Python 3 (ipykernel)",
   "language": "python",
   "name": "python3"
  },
  "language_info": {
   "codemirror_mode": {
    "name": "ipython",
    "version": 3
   },
   "file_extension": ".py",
   "mimetype": "text/x-python",
   "name": "python",
   "nbconvert_exporter": "python",
   "pygments_lexer": "ipython3",
   "version": "3.9.7"
  }
 },
 "nbformat": 4,
 "nbformat_minor": 5
}
